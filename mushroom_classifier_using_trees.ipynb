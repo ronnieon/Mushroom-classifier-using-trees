{
 "cells": [
  {
   "cell_type": "code",
   "execution_count": 1,
   "id": "6b424787",
   "metadata": {},
   "outputs": [],
   "source": [
    "import numpy as np\n",
    "import matplotlib.pyplot as plt"
   ]
  },
  {
   "cell_type": "code",
   "execution_count": 2,
   "id": "b0e05490",
   "metadata": {},
   "outputs": [],
   "source": [
    "# xtrain[0] = Mushroom cap color (Brown - 1, Red - 0)\n",
    "# xtrain[1] = Mushroom stalk shape (Taper - 1, Enlarge - 0)\n",
    "# xtrain[2] = Mushroom Solitary (Yes - 1, No - 0)\n",
    "\n",
    "# ytrain = (Edible - 1, Not edible - 0)"
   ]
  },
  {
   "cell_type": "code",
   "execution_count": 3,
   "id": "7f45804a",
   "metadata": {},
   "outputs": [],
   "source": [
    "xtrain = np.array([[1,1,1],\n",
    "                   [1,0,1],\n",
    "                   [1,0,0],\n",
    "                   [1,0,0],\n",
    "                   [1,1,1],\n",
    "                   [0,1,1],\n",
    "                   [0,0,0],\n",
    "                   [1,0,1],\n",
    "                   [0,1,0],\n",
    "                   [1,0,0]])\n",
    "\n",
    "ytrain = np.array([1,1,0,0,1,0,0,1,1,0])"
   ]
  },
  {
   "cell_type": "code",
   "execution_count": 4,
   "id": "e1c2ae86",
   "metadata": {},
   "outputs": [
    {
     "name": "stdout",
     "output_type": "stream",
     "text": [
      "[[1 1 1]\n",
      " [1 0 1]\n",
      " [1 0 0]\n",
      " [1 0 0]\n",
      " [1 1 1]\n",
      " [0 1 1]\n",
      " [0 0 0]\n",
      " [1 0 1]\n",
      " [0 1 0]\n",
      " [1 0 0]]\n"
     ]
    }
   ],
   "source": [
    "print(xtrain[0:10])"
   ]
  },
  {
   "cell_type": "code",
   "execution_count": 5,
   "id": "0faf4b79",
   "metadata": {},
   "outputs": [
    {
     "name": "stdout",
     "output_type": "stream",
     "text": [
      "[1 1 0 0 1 0 0 1 1 0]\n"
     ]
    }
   ],
   "source": [
    "print(ytrain)"
   ]
  },
  {
   "cell_type": "code",
   "execution_count": 6,
   "id": "64b2f5b0",
   "metadata": {},
   "outputs": [
    {
     "name": "stdout",
     "output_type": "stream",
     "text": [
      "Shape XTrain - (10, 3)\n",
      "Shape YTrain - (10,)\n",
      "M - 10\n"
     ]
    }
   ],
   "source": [
    "print(\"Shape XTrain -\", xtrain.shape)\n",
    "print(\"Shape YTrain -\", ytrain.shape)\n",
    "print(\"M -\", len(xtrain))"
   ]
  },
  {
   "cell_type": "code",
   "execution_count": 7,
   "id": "45d8b7b5",
   "metadata": {},
   "outputs": [],
   "source": [
    "def entropy_function(y) :\n",
    "    entropy = 0\n",
    "    if len(y) != 0 :\n",
    "        p1 = len(y[y==1])/len(y)\n",
    "\n",
    "        if p1 != 1 and p1 != 0 :\n",
    "            entropy = (-p1)*(np.log2(p1)) - ((1-p1)*(np.log2(1-p1)))\n",
    "            \n",
    "    return entropy"
   ]
  },
  {
   "cell_type": "code",
   "execution_count": 8,
   "id": "00c9bb4e",
   "metadata": {},
   "outputs": [],
   "source": [
    "def split_function(X, nodeIndices, feature) :\n",
    "    lIndices = []\n",
    "    rIindices = []\n",
    "\n",
    "    for i in nodeIndices :\n",
    "        if X[i][feature] == 1 :\n",
    "            lIndices.append(i)\n",
    "        else :\n",
    "            rIindices.append(i)\n",
    "            \n",
    "    return lIndices, rIindices\n"
   ]
  },
  {
   "cell_type": "code",
   "execution_count": 9,
   "id": "76240596",
   "metadata": {},
   "outputs": [
    {
     "name": "stdout",
     "output_type": "stream",
     "text": [
      "Feature being 0, we are talking about the first row in the dataset. so it will segregate on that basis.\n",
      "left indices:  [0, 1, 2, 3, 4, 7, 9]\n",
      "right indices:  [5, 6, 8]\n"
     ]
    }
   ],
   "source": [
    "# Testing split_function\n",
    "\n",
    "example_indices = [0,1,2,3,4,5,6,7,8,9]\n",
    "example_feature = 0\n",
    "lIndices, rIndices = split_function(xtrain, example_indices, example_feature)\n",
    "\n",
    "print(\"Feature being 0, we are talking about the first row in the dataset. so it will segregate on that basis.\")\n",
    "print(\"left indices: \", lIndices)\n",
    "print(\"right indices: \", rIndices)\n"
   ]
  },
  {
   "cell_type": "code",
   "execution_count": 10,
   "id": "46345dd0",
   "metadata": {},
   "outputs": [],
   "source": [
    "def info_gain_function(X, y, nodeIndices, feature) :\n",
    "    \n",
    "    lIndices, rIndices = split_function(X, nodeIndices, feature)\n",
    "\n",
    "    Xnode, ynode = X[nodeIndices], y[nodeIndices]\n",
    "    Xleft, yleft = X[lIndices], y[lIndices]\n",
    "    Xright, yright = X[rIndices], y[rIndices]\n",
    "\n",
    "    info_gain = 0\n",
    "\n",
    "    nodeEntropy = entropy_function(ynode)\n",
    "    leftEntropy = entropy_function(yleft)\n",
    "    rightEntropy = entropy_function(yright)\n",
    "\n",
    "    wleft = len(Xleft)/len(Xnode)\n",
    "    wright = len(Xright)/len(Xnode)\n",
    "\n",
    "    weighted_entropy = ((wleft*leftEntropy) + (wright*rightEntropy))\n",
    "    info_gain = nodeEntropy - weighted_entropy\n",
    "    \n",
    "    return info_gain"
   ]
  },
  {
   "cell_type": "code",
   "execution_count": 11,
   "id": "62bdfb06",
   "metadata": {},
   "outputs": [
    {
     "name": "stdout",
     "output_type": "stream",
     "text": [
      "<class 'function'>\n"
     ]
    }
   ],
   "source": [
    "print(type(info_gain_function))"
   ]
  },
  {
   "cell_type": "code",
   "execution_count": 12,
   "id": "59759e9d",
   "metadata": {},
   "outputs": [
    {
     "name": "stdout",
     "output_type": "stream",
     "text": [
      "0.12451124978365313\n"
     ]
    }
   ],
   "source": [
    "# testing info_gain_function\n",
    "\n",
    "example_info_gain = info_gain_function(xtrain, ytrain, example_indices, feature = 1)\n",
    "print(example_info_gain)"
   ]
  },
  {
   "cell_type": "code",
   "execution_count": 13,
   "id": "3f3114b8",
   "metadata": {},
   "outputs": [],
   "source": [
    "def best_data_split_function(X, y, nodeIndices) :\n",
    "    numFeatures = X.shape[1]    # X[0 to 2] = 3\n",
    "    bestFeature = -1\n",
    "    max_info_gain = 0\n",
    "\n",
    "    for i in range(numFeatures) :\n",
    "        info_gain = info_gain_function(X, y, nodeIndices, i)\n",
    "\n",
    "        if (info_gain > max_info_gain) :\n",
    "            max_info_gain = info_gain\n",
    "            bestFeature = i\n",
    "    \n",
    "    return bestFeature"
   ]
  },
  {
   "cell_type": "code",
   "execution_count": 14,
   "id": "cf4481c4",
   "metadata": {},
   "outputs": [
    {
     "name": "stdout",
     "output_type": "stream",
     "text": [
      "Best feature =  2\n"
     ]
    }
   ],
   "source": [
    "main_indices = [0,1,2,3,4,5,6,7,8,9]\n",
    "best_feature = best_data_split_function(xtrain, ytrain, main_indices)\n",
    "print(\"Best feature = \", best_feature)"
   ]
  },
  {
   "cell_type": "code",
   "execution_count": 15,
   "id": "8cdc2fcf",
   "metadata": {},
   "outputs": [],
   "source": [
    "tree = []\n",
    "\n",
    "def tree_building_function(X, y, nodeIndices, branchName, maxDepth, currDepth) :\n",
    "    if currDepth == maxDepth :\n",
    "        formatting = (\" \"*currDepth) + (\"-\"*currDepth)\n",
    "        print(formatting, \"%s leaf node with indices\" % (branchName), nodeIndices)\n",
    "        return\n",
    "    \n",
    "    best_feature = best_data_split_function(X, y, nodeIndices)\n",
    "\n",
    "    formatting = (\"-\"*currDepth)\n",
    "    print(\"%s Depth %d, %s: Split on feature: %d\" % (formatting, currDepth, branchName, best_feature))\n",
    "\n",
    "    lIndices, rIndices = split_function(X, nodeIndices, best_feature)\n",
    "    tree.append((lIndices, rIndices, best_feature))\n",
    "\n",
    "    tree_building_function(X, y, lIndices, \"Left\", maxDepth, currDepth+1)\n",
    "    tree_building_function(X, y, rIndices, \"Right\", maxDepth, currDepth+1)"
   ]
  },
  {
   "cell_type": "code",
   "execution_count": 16,
   "id": "4a04ecf2",
   "metadata": {},
   "outputs": [
    {
     "name": "stdout",
     "output_type": "stream",
     "text": [
      " Depth 0, Root: Split on feature: 2\n",
      "- Depth 1, Left: Split on feature: 0\n",
      "  -- Left leaf node with indices [0, 1, 4, 7]\n",
      "  -- Right leaf node with indices [5]\n",
      "- Depth 1, Right: Split on feature: 1\n",
      "  -- Left leaf node with indices [8]\n",
      "  -- Right leaf node with indices [2, 3, 6, 9]\n"
     ]
    }
   ],
   "source": [
    "tree_building_function(xtrain, ytrain, main_indices, \"Root\", maxDepth=2, currDepth=0)"
   ]
  }
 ],
 "metadata": {
  "kernelspec": {
   "display_name": "3.9.6",
   "language": "python",
   "name": "python3"
  },
  "language_info": {
   "codemirror_mode": {
    "name": "ipython",
    "version": 3
   },
   "file_extension": ".py",
   "mimetype": "text/x-python",
   "name": "python",
   "nbconvert_exporter": "python",
   "pygments_lexer": "ipython3",
   "version": "3.9.6"
  }
 },
 "nbformat": 4,
 "nbformat_minor": 5
}
